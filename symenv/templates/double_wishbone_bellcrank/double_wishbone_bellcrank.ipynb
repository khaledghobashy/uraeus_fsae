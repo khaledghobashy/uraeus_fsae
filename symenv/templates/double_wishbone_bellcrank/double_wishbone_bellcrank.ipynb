{
 "cells": [
  {
   "cell_type": "markdown",
   "metadata": {},
   "source": [
    "# SYMBOLIC STUDY"
   ]
  },
  {
   "cell_type": "markdown",
   "metadata": {},
   "source": [
    "## **SYSTEM DESCRIPTION**\n",
    "-------------------------"
   ]
  },
  {
   "cell_type": "code",
   "execution_count": 1,
   "metadata": {},
   "outputs": [
    {
     "data": {
      "text/markdown": [
       "# DOUBLE WISHBONE BELL-CRANK ACTUATED\n",
       "\n",
       "**TEMPLATE-BASED TOPOLOGY**\n",
       "\n",
       "------------------------------------------------\n",
       "\n",
       "### **Summary**\n",
       "\n",
       "A **double wishbone** mechanism is a type of  independent suspension mechanism used for automotive. It controls the motion of the wheel assembly via two control arms that are connected to the chassis from one end and to the wheel-carrier on the other end, which resembles a **four-bar linkage**, with the chassis being the ground, and the wheel-carrier being the coupler. The wheel-carrier is connected also to the chassis via a tie-rod that constrains the steering of the wheel-assembly as well. \n",
       "\n",
       "This kinematic chain is augmented with a another simple chain that controls the vertical motion of the wheel-assembly, this simple chain can be a direct-acting coil-over that is connected to either one of the control arms and the chassis, or can be a rocker-push/pull rod mechanism that is connected to the coil-over.\n",
       "\n",
       "![Figure 1 - System Layout](double_wishbone_bellcrank.png)\n",
       "\n",
       "*Figure 1 - System Layout*\n",
       "\n",
       "--------------------------------------\n",
       "\n",
       "### **Topology Layout**\n",
       "\n",
       "The mechanism consists of 9 Bodies. Therefore, total system coordinates is $n=n_b\\times7 = 9\\times7 = 63 $, where $n_b$ is the total number of bodies. [^1]\n",
       "\n",
       "The list of bodies is given below:\n",
       "\n",
       "- Upper Control Arm **(UCA)**.\n",
       "- Lower Control Arm **(LCA)**.\n",
       "- Upright.\n",
       "- Wheel Hub.\n",
       "- Tie-Rod.\n",
       "- Push-Rod.\n",
       "- Rocker.\n",
       "- CoilOver P1.\n",
       "- CoilOver P2.\n",
       "\n",
       "The system connectivity is given in the table below.\n",
       "\n",
       "<center>\n",
       "\n",
       "| Joint Name       | Body i      | Body j      | Joint Type  | $n_c$ |\n",
       "| :--------------- | :---------- | :---------- | :---------: | ----: |\n",
       "| UCA Outer Joint  | UCA         | Upright     |  Spherical  |     3 |\n",
       "| LCA Outer Joint  | LCA         | Upright     |  Spherical  |     3 |\n",
       "| Tie-Rod Outer    | Tie-Rod     | Upright     |  Spherical  |     3 |\n",
       "| PRod - Rocker    | Push-Rod    | Rocker      |  Spherical  |     3 |\n",
       "| Rocker - Chassis | Rocker      | Chassis     |  Revolute   |     5 |\n",
       "| UCA-Chassis      | UCA         | Chassis     |  Revolute   |     5 |\n",
       "| LCA-Chassis      | LCA         | Chassis     |  Revolute   |     5 |\n",
       "| Hub Bearing      | Wheel-Hub   | Upright     |  Revolute   |     5 |\n",
       "| Tie-Rod Inner    | Tie-Rod     | Chassis     |  Universal  |     4 |\n",
       "| PRod - UCA       | Push Rod    | UCA         |  Universal  |     4 |\n",
       "| CoilOver Top     | CoilOver P1 | Chassis     |  Universal  |     4 |\n",
       "| CoilOver Bottom  | CoilOver P2 | UCA         |  Universal  |     4 |\n",
       "| CoilOver Cyl     | CoilOver P1 | CoilOver P2 | Cylindrical |     4 |\n",
       "| **Total**        |             |             |             |    52 |\n",
       "\n",
       "</center>\n",
       "\n",
       "</br>\n",
       "\n",
       "Hence, the total number of constraints equations is:\n",
       "$$ n_{c} = n_{c_j} + n_{c_p} + n_{c_g} = 52 + (9\\times 1) + 0 = 61 $$\n",
       "\n",
       "where:\n",
       "* $n_{c_j}$ is the joints constraints.\n",
       "* $n_{c_p}$ is the euler-parameters normalization constraints.\n",
       "* $n_{c_g}$ is the ground constraints.\n",
       "\n",
       "Therefore, the resulting **DOF** is:\n",
       "$$ n - n_c = 63 - 61 = 2 $$\n",
       "\n",
       "which can be interpreted in a convenient way that one DOF is the rotational motion of the wheel, one is the vertical motion.\n",
       "\n",
       "------------------------------------------------------\n",
       "<br/>\n",
       "\n",
       "[^1]: The tool uses [euler-parameters](https://en.wikibooks.org/wiki/Multibody_Mechanics/Euler_Parameters) -which is a 4D unit quaternion- to represents bodies orientation in space. This makes the generalized coordinates used to fully define a body in space to be **7,** instead of **6**, it also adds an algebraic equation to the constraints that ensures the unity/normalization of the body quaternion. This is an important remark as the calculations of the degrees-of-freedom depends on it.\n",
       "\n"
      ],
      "text/plain": [
       "<IPython.core.display.Markdown object>"
      ]
     },
     "metadata": {},
     "output_type": "display_data"
    }
   ],
   "source": [
    "from IPython.display import display, Markdown\n",
    "display(Markdown(filename='README.md'))"
   ]
  },
  {
   "cell_type": "markdown",
   "metadata": {},
   "source": [
    "---------------------------------------------------------------\n",
    "---------------------------------------------------------------"
   ]
  },
  {
   "cell_type": "markdown",
   "metadata": {},
   "source": [
    "## **SYMBOLIC TOPOLOGY**\n",
    "------------------------"
   ]
  },
  {
   "cell_type": "markdown",
   "metadata": {},
   "source": [
    "In this section, we create the symbolic topology that captures the topological layout that we just discussed.</br>\n",
    "Defining the topology is very simple. We start by importing the ```template_topology``` class and create a new instance that represents our symbolic model. Then we start adding the components we discussed earlier, starting by the bodies, then the joints, actuators and forces, and thats it.</br>\n",
    "These components will be represented symbolically, and therefore there is no need for any numerical inputs at this step.\n",
    "\n",
    "The system is stored in a form of a network graph that stores all the data needed for the assemblage of the system equations later. But even before the assemblage process, we can gain helpful insights about our system as well be shown.\n"
   ]
  },
  {
   "cell_type": "markdown",
   "metadata": {},
   "source": [
    "-----------------------------------------------"
   ]
  },
  {
   "cell_type": "code",
   "execution_count": 2,
   "metadata": {},
   "outputs": [],
   "source": [
    "import os\n",
    "from uraeus.smbd.systems import template_topology, configuration"
   ]
  },
  {
   "cell_type": "code",
   "execution_count": 3,
   "metadata": {},
   "outputs": [],
   "source": [
    "# Getting the database root directory which is three levels up from here\n",
    "database_directory = os.path.abspath('../../../')\n",
    "\n",
    "# Creating \"data\" directory to store generated system data\n",
    "os.makedirs('data', exist_ok=True)"
   ]
  },
  {
   "cell_type": "code",
   "execution_count": 4,
   "metadata": {},
   "outputs": [],
   "source": [
    "model_name = 'dwb_bellcrank_push'"
   ]
  },
  {
   "cell_type": "code",
   "execution_count": 5,
   "metadata": {},
   "outputs": [],
   "source": [
    "sym_model = template_topology(model_name)"
   ]
  },
  {
   "cell_type": "markdown",
   "metadata": {},
   "source": [
    "### Adding Bodies"
   ]
  },
  {
   "cell_type": "code",
   "execution_count": 6,
   "metadata": {},
   "outputs": [],
   "source": [
    "# Adding Bodies\n",
    "# =============\n",
    "sym_model.add_body('uca', mirror=True)\n",
    "sym_model.add_body('lca', mirror=True)\n",
    "sym_model.add_body('upright', mirror=True)\n",
    "sym_model.add_body('tie_rod', mirror=True)\n",
    "sym_model.add_body('hub', mirror=True)\n",
    "\n",
    "sym_model.add_body('pushrod', mirror=True)\n",
    "sym_model.add_body('rocker', mirror=True)\n",
    "sym_model.add_body('upper_strut', mirror=True)\n",
    "sym_model.add_body('lower_strut', mirror=True)\n",
    "\n",
    "sym_model.add_body('steer', mirror=True, virtual=True)\n",
    "sym_model.add_body('chassis', virtual=True)"
   ]
  },
  {
   "cell_type": "markdown",
   "metadata": {},
   "source": [
    "### Adding Joints"
   ]
  },
  {
   "cell_type": "code",
   "execution_count": 7,
   "metadata": {},
   "outputs": [],
   "source": [
    "sym_model.add_joint.spherical('uca_upright', 'rbr_uca', 'rbr_upright', mirror=True)\n",
    "sym_model.add_joint.spherical('lca_upright', 'rbr_lca', 'rbr_upright', mirror=True)\n",
    "sym_model.add_joint.spherical('tie_upright', 'rbr_tie_rod', 'rbr_upright', mirror=True)\n",
    "sym_model.add_joint.spherical('prod_rocker', 'rbr_rocker', 'rbr_pushrod', mirror=True)\n",
    "\n",
    "sym_model.add_joint.revolute('uca_chassis', 'rbr_uca', 'vbs_chassis', mirror=True)\n",
    "sym_model.add_joint.revolute('lca_chassis', 'rbr_lca', 'vbs_chassis', mirror=True)\n",
    "sym_model.add_joint.revolute('hub_bearing', 'rbr_upright', 'rbr_hub', mirror=True)\n",
    "sym_model.add_joint.revolute('rocker_chassis', 'rbr_rocker', 'vbs_chassis', mirror=True)\n",
    "\n",
    "sym_model.add_joint.universal('prod_uca', 'rbr_uca', 'rbr_pushrod', mirror=True)\n",
    "sym_model.add_joint.universal('strut_chassis', 'rbr_upper_strut', 'vbs_chassis', mirror=True)\n",
    "sym_model.add_joint.universal('strut_rocker', 'rbr_lower_strut', 'rbr_rocker', mirror=True)\n",
    "sym_model.add_joint.universal('tie_steering', 'rbr_tie_rod', 'vbr_steer', mirror=True)\n",
    "\n",
    "sym_model.add_joint.cylinderical('strut', 'rbr_upper_strut', 'rbr_lower_strut', mirror=True)\n"
   ]
  },
  {
   "cell_type": "markdown",
   "metadata": {},
   "source": [
    "### Adding Actuators"
   ]
  },
  {
   "cell_type": "code",
   "execution_count": 8,
   "metadata": {},
   "outputs": [],
   "source": [
    "#"
   ]
  },
  {
   "cell_type": "markdown",
   "metadata": {},
   "source": [
    "### Adding Forces"
   ]
  },
  {
   "cell_type": "code",
   "execution_count": 9,
   "metadata": {},
   "outputs": [],
   "source": [
    "sym_model.add_force.TSDA('strut', 'rbr_upper_strut', 'rbr_lower_strut', mirror=True)\n",
    "sym_model.add_force.generic_load('tire', 'rbr_hub', mirror=True)\n",
    "sym_model.add_force.local_torque('drive', 'rbr_hub', mirror=True)\n"
   ]
  },
  {
   "cell_type": "markdown",
   "metadata": {
    "colab_type": "text",
    "id": "goKtOBuLd1Kh"
   },
   "source": [
    "### **SYMBOLIC CHARACTERISTICS**"
   ]
  },
  {
   "cell_type": "code",
   "execution_count": 10,
   "metadata": {},
   "outputs": [
    {
     "data": {
      "image/png": "[encoded data removed]",
      "text/plain": [
       "<Figure size 720x432 with 1 Axes>"
      ]
     },
     "metadata": {},
     "output_type": "display_data"
    }
   ],
   "source": [
    "sym_model.topology.draw_constraints_topology()"
   ]
  },
  {
   "cell_type": "markdown",
   "metadata": {},
   "source": [
    "### **ASSEMBLING**"
   ]
  },
  {
   "cell_type": "markdown",
   "metadata": {},
   "source": [
    "This is the last step of the symbolic building process, where we make the system starts the assemblage process of the governing equations, which will be used then in the code generation for the numerical simulation, and also can be used for further symbolic manipulations.</br>\n",
    "\n",
    "*Note: The equations' notations will be discussed in the tool documentation files.*"
   ]
  },
  {
   "cell_type": "code",
   "execution_count": 11,
   "metadata": {},
   "outputs": [],
   "source": [
    "sym_model.save('data')\n",
    "sym_model.assemble()"
   ]
  },
  {
   "cell_type": "markdown",
   "metadata": {},
   "source": [
    "---------------------------------------------------------------\n",
    "---------------------------------------------------------------"
   ]
  },
  {
   "cell_type": "markdown",
   "metadata": {},
   "source": [
    "## **SYSTEM CONFIGURATION**\n",
    "---------------------------"
   ]
  },
  {
   "cell_type": "markdown",
   "metadata": {},
   "source": [
    "In this step we define a symbolic configuration of our symbolic topology. As you may have noticed in the symbolic topology building step, we only cared about the *'topology'*, thats is the system bodies and their connectivity, and we did not care explicitly with how these components are configured in space.</br>\n",
    "In order to create a valid numerical simulation session, we have to provide the system with its numerical configuration needed, for example, the joints' locations and orientations. The symbolic topology in its raw form will require you to manually enter all these numerical arguments, which can be cumbersome even for smaller systems. This can be checked by checking the configuration inputs of the symbolic configuration as ```sym_config.config.input_nodes```\n",
    "\n",
    "Here we start by stating the symbolic inputs we wish to use instead of the default inputs set, and then we define the relation between these newly defined arguments and the original ones. The details of this process will be provided in the documentation."
   ]
  },
  {
   "cell_type": "code",
   "execution_count": 12,
   "metadata": {},
   "outputs": [],
   "source": [
    "config_name = '%s_cfg'%model_name\n",
    "sym_config = configuration(config_name, sym_model)"
   ]
  },
  {
   "cell_type": "markdown",
   "metadata": {},
   "source": [
    "### CONFIGURATION INPUTS"
   ]
  },
  {
   "cell_type": "code",
   "execution_count": 13,
   "metadata": {},
   "outputs": [],
   "source": [
    "# Adding UserInputs\n",
    "# =================\n",
    "\n",
    "# Upper Control Arm Points\n",
    "# ========================\n",
    "sym_config.add_point.UserInput('ucaf', mirror=True)\n",
    "sym_config.add_point.UserInput('ucar', mirror=True)\n",
    "sym_config.add_point.UserInput('ucao', mirror=True)\n",
    "\n",
    "# Lower Control Arm Points\n",
    "# ========================\n",
    "sym_config.add_point.UserInput('lcaf', mirror=True)\n",
    "sym_config.add_point.UserInput('lcar', mirror=True)\n",
    "sym_config.add_point.UserInput('lcao', mirror=True)\n",
    "\n",
    "# Tie-Rod Points\n",
    "# ==============\n",
    "sym_config.add_point.UserInput('tro', mirror=True)\n",
    "sym_config.add_point.UserInput('tri', mirror=True)\n",
    "\n",
    "# Bell-Crank Points\n",
    "# =================\n",
    "sym_config.add_point.UserInput('rocker_chassis', mirror=True)\n",
    "sym_config.add_point.UserInput('pushrod_rocker', mirror=True)\n",
    "sym_config.add_point.UserInput('pushrod_uca', mirror=True)\n",
    "\n",
    "# Spring-Damper Points\n",
    "# ====================\n",
    "sym_config.add_point.UserInput('strut_chassis', mirror=True)\n",
    "sym_config.add_point.UserInput('strut_rocker', mirror=True)\n",
    "\n",
    "# Wheel Center Points\n",
    "# ===================\n",
    "sym_config.add_point.UserInput('wc', mirror=True)\n",
    "sym_config.add_point.UserInput('wc1', mirror=True)\n",
    "sym_config.add_point.UserInput('wc2', mirror=True)\n",
    "\n",
    "# Guiding Global Axes\n",
    "# ===================\n",
    "sym_config.add_vector.UserInput('x')\n",
    "sym_config.add_vector.UserInput('y')\n",
    "sym_config.add_vector.UserInput('z')\n"
   ]
  },
  {
   "cell_type": "markdown",
   "metadata": {},
   "source": [
    "#### SCALARS"
   ]
  },
  {
   "cell_type": "code",
   "execution_count": 14,
   "metadata": {},
   "outputs": [],
   "source": [
    "# Coil-Spring FreeLength\n",
    "sym_config.add_scalar.UserInput('strut_freelength')\n",
    "sym_config.add_relation.Equal_to('far_strut_FL', ('s_strut_freelength',), mirror=True)"
   ]
  },
  {
   "cell_type": "markdown",
   "metadata": {},
   "source": [
    "### CONFIGURATION RELATIONS"
   ]
  },
  {
   "cell_type": "code",
   "execution_count": 15,
   "metadata": {},
   "outputs": [],
   "source": [
    "# OTHER POINTS\n",
    "sym_config.add_point.Centered('strut_mid', ('hpr_strut_chassis', 'hpr_strut_rocker'), mirror=True)\n",
    "\n",
    "# JOINTS CONFIGURATIONS\n",
    "\n",
    "# UCA_Upright Spherical joint\n",
    "# ===========================\n",
    "sym_config.add_relation.Equal_to('pt1_jcr_uca_upright', ('hpr_ucao',), mirror=True)\n",
    "sym_config.add_relation.Equal_to('ax1_jcr_uca_upright', ('vcs_z',), mirror=True)\n",
    "\n",
    "# LCA_Upright Spherical joint\n",
    "# ===========================\n",
    "sym_config.add_relation.Equal_to('pt1_jcr_lca_upright', ('hpr_lcao',), mirror=True)\n",
    "sym_config.add_relation.Equal_to('ax1_jcr_lca_upright', ('vcs_z',), mirror=True)\n",
    "\n",
    "# TieRod_Upright Spherical joint\n",
    "# ==============================\n",
    "sym_config.add_relation.Equal_to('pt1_jcr_tie_upright', ('hpr_tro',), mirror=True)\n",
    "sym_config.add_relation.Equal_to('ax1_jcr_tie_upright', ('hpr_tro',), mirror=True)\n",
    "\n",
    "# PRod_Rocker Spherical joint\n",
    "# ===========================\n",
    "sym_config.add_relation.Equal_to('pt1_jcr_prod_rocker', ('hpr_pushrod_rocker',), mirror=True)\n",
    "sym_config.add_relation.Equal_to('ax1_jcr_prod_rocker', ('hpr_pushrod_rocker',), mirror=True)\n",
    "\n",
    "# Rocker-Chassis Revolute Joint:\n",
    "# ==============================\n",
    "sym_config.add_relation.Oriented('ax1_jcr_rocker_chassis', ('hpr_rocker_chassis','hpr_pushrod_rocker','hpr_strut_rocker'), mirror=True)\n",
    "sym_config.add_relation.Equal_to('pt1_jcr_rocker_chassis', ('hpr_rocker_chassis',), mirror=True)\n",
    "\n",
    "# PushRod-UCA Universal Joint:\n",
    "# ============================\n",
    "sym_config.add_relation.Equal_to('pt1_jcr_prod_uca', ('hpr_pushrod_uca',), mirror=True)\n",
    "sym_config.add_relation.Oriented('ax1_jcr_prod_uca', ('hpr_pushrod_uca','hpr_pushrod_rocker'), mirror=True)\n",
    "sym_config.add_relation.Oriented('ax2_jcr_prod_uca', ('hpr_pushrod_rocker','hpr_pushrod_uca'), mirror=True)\n",
    "\n",
    "# Upper Control Arm Revolute Joint:\n",
    "# =================================\n",
    "sym_config.add_relation.Centered('pt1_jcr_uca_chassis', ('hpr_ucaf','hpr_ucar'), mirror=True)\n",
    "sym_config.add_relation.Oriented('ax1_jcr_uca_chassis', ('hpr_ucaf','hpr_ucar'), mirror=True)\n",
    "\n",
    "# Lower Control Arm Revolute Joint:\n",
    "# ================================\n",
    "sym_config.add_relation.Centered('pt1_jcr_lca_chassis', ('hpr_lcaf','hpr_lcar'), mirror=True)\n",
    "sym_config.add_relation.Oriented('ax1_jcr_lca_chassis', ('hpr_lcaf','hpr_lcar'), mirror=True)\n",
    "\n",
    "# Wheel Hub Revolute Joint:\n",
    "# =========================\n",
    "sym_config.add_relation.Equal_to('pt1_jcr_hub_bearing', ('hpr_wc',), mirror=True)\n",
    "sym_config.add_relation.Equal_to('ax1_jcr_hub_bearing', ('vcs_y',), mirror=True)\n",
    "\n",
    "# Strut-Chassis Universal Joint:\n",
    "# ==============================\n",
    "sym_config.add_relation.Equal_to('pt1_jcr_strut_chassis', ('hpr_strut_chassis',), mirror=True)\n",
    "sym_config.add_relation.Oriented('ax1_jcr_strut_chassis', ('hpr_strut_chassis','hpr_strut_mid'), mirror=True)\n",
    "sym_config.add_relation.Oriented('ax2_jcr_strut_chassis', ('hpr_strut_mid','hpr_strut_chassis'), mirror=True)\n",
    "\n",
    "# Strut-Rocker Universal Joint:\n",
    "# =============================\n",
    "sym_config.add_relation.Equal_to('pt1_jcr_strut_rocker', ('hpr_strut_rocker',), mirror=True)\n",
    "sym_config.add_relation.Oriented('ax1_jcr_strut_rocker', ('hpr_strut_chassis','hpr_strut_rocker'), mirror=True)\n",
    "sym_config.add_relation.Oriented('ax2_jcr_strut_rocker', ('hpr_strut_rocker','hpr_strut_chassis'), mirror=True)\n",
    "\n",
    "# Tie-Steer Universal Joint:\n",
    "# ==========================\n",
    "sym_config.add_relation.Equal_to('pt1_jcr_tie_steering', ('hpr_tri',), mirror=True)\n",
    "sym_config.add_relation.Oriented('ax1_jcr_tie_steering', ('hpr_tri','hpr_tro'), mirror=True)\n",
    "sym_config.add_relation.Oriented('ax2_jcr_tie_steering', ('hpr_tro','hpr_tri'), mirror=True)\n",
    "\n",
    "# Strut Cylinderical Joint:\n",
    "# =========================\n",
    "sym_config.add_relation.Equal_to('pt1_jcr_strut', ('hpr_strut_mid',), mirror=True)\n",
    "sym_config.add_relation.Oriented('ax1_jcr_strut', ('hpr_strut_rocker','hpr_strut_chassis'), mirror=True)\n",
    "\n",
    "\n",
    "# Strut Force Points:\n",
    "# ===================\n",
    "sym_config.add_relation.Equal_to('pt1_far_strut', ('hpr_strut_chassis',), mirror=True)\n",
    "sym_config.add_relation.Equal_to('pt2_far_strut', ('hpr_strut_rocker',), mirror=True)\n",
    "\n",
    "\n",
    "# Wheel Torque Axis:\n",
    "# ==================\n",
    "sym_config.add_relation.Equal_to('ax1_far_drive', ('vcs_y',), mirror=True)\n"
   ]
  },
  {
   "cell_type": "markdown",
   "metadata": {},
   "source": [
    "### CONFIGURATION GEOMETRIES"
   ]
  },
  {
   "cell_type": "code",
   "execution_count": 16,
   "metadata": {},
   "outputs": [],
   "source": [
    "# GEOMETRIES\n",
    "# ==========\n",
    "sym_config.add_scalar.UserInput('links_ro')\n",
    "sym_config.add_scalar.UserInput('strut_outer')\n",
    "sym_config.add_scalar.UserInput('strut_inner')\n",
    "sym_config.add_scalar.UserInput('thickness')\n",
    "sym_config.add_scalar.UserInput('hub_radius')\n",
    "sym_config.add_scalar.UserInput('tire_radius')\n",
    "\n",
    "\n",
    "# Upper Control Arm\n",
    "# =================\n",
    "#sym_config.add_geometry.Triangular_Prism('uca', ('hpr_ucaf','hpr_ucar','hpr_ucao','s_thickness'), mirror=True)\n",
    "sym_config.add_geometry.Cylinder_Geometry('uca_c1', ('hpr_ucaf', 'hpr_ucao','s_links_ro'), mirror=True)\n",
    "sym_config.add_geometry.Cylinder_Geometry('uca_c2', ('hpr_ucar', 'hpr_ucao','s_links_ro'), mirror=True)\n",
    "sym_config.add_geometry.Composite_Geometry('uca', ('gmr_uca_c1', 'gmr_uca_c2'), mirror=True)\n",
    "sym_config.assign_geometry_to_body('rbr_uca', 'gmr_uca', mirror=True)\n",
    "\n",
    "# Lower Control Arm\n",
    "# =================\n",
    "#sym_config.add_geometry.Triangular_Prism('lca', ('hpr_lcaf','hpr_lcar','hpr_lcao','s_thickness'), mirror=True)\n",
    "sym_config.add_geometry.Cylinder_Geometry('lca_c1', ('hpr_lcaf', 'hpr_lcao','s_links_ro'), mirror=True)\n",
    "sym_config.add_geometry.Cylinder_Geometry('lca_c2', ('hpr_lcar', 'hpr_lcao','s_links_ro'), mirror=True)\n",
    "sym_config.add_geometry.Composite_Geometry('lca', ('gmr_lca_c1', 'gmr_lca_c2'), mirror=True)\n",
    "sym_config.assign_geometry_to_body('rbr_lca', 'gmr_lca', mirror=True)\n",
    "\n",
    "# Bell-Crank\n",
    "# ==========\n",
    "sym_config.add_geometry.Triangular_Prism('rocker', ('hpr_strut_rocker','hpr_pushrod_rocker','hpr_rocker_chassis','s_thickness'), mirror=True)\n",
    "sym_config.assign_geometry_to_body('rbr_rocker','gmr_rocker',mirror=True)\n",
    "\n",
    "# Wheel Upright\n",
    "# =============\n",
    "sym_config.add_geometry.Triangular_Prism('upright', ('hpr_ucao','hpr_wc','hpr_lcao','s_thickness'), mirror=True)\n",
    "sym_config.assign_geometry_to_body('rbr_upright', 'gmr_upright', mirror=True)\n",
    "\n",
    "# Coil-Over Upper Part\n",
    "# ====================\n",
    "sym_config.add_geometry.Cylinder_Geometry('upper_strut', ('hpr_strut_chassis','hpr_strut_mid','s_strut_outer') , mirror=True)\n",
    "sym_config.assign_geometry_to_body('rbr_upper_strut', 'gmr_upper_strut', mirror=True)\n",
    "\n",
    "# Coil-Over Lower Part\n",
    "# ====================\n",
    "sym_config.add_geometry.Cylinder_Geometry('lower_strut', ('hpr_strut_mid','hpr_strut_rocker','s_strut_inner'), mirror=True)\n",
    "sym_config.assign_geometry_to_body('rbr_lower_strut', 'gmr_lower_strut', mirror=True)\n",
    "\n",
    "# TieRod\n",
    "# ======\n",
    "sym_config.add_geometry.Cylinder_Geometry('tie_rod', ('hpr_tri','hpr_tro','s_links_ro'), mirror=True)\n",
    "sym_config.assign_geometry_to_body('rbr_tie_rod','gmr_tie_rod',mirror=True)\n",
    "\n",
    "# PushRod\n",
    "# =======\n",
    "sym_config.add_geometry.Cylinder_Geometry('pushrod', ('hpr_pushrod_uca','hpr_pushrod_rocker','s_links_ro'), mirror=True)\n",
    "sym_config.assign_geometry_to_body('rbr_pushrod', 'gmr_pushrod', mirror=True)\n",
    "\n",
    "# Wheel Hub\n",
    "# =========\n",
    "sym_config.add_geometry.Cylinder_Geometry('hub_cyl', ('hpr_wc2','hpr_wc','s_hub_radius'), mirror=True)\n",
    "sym_config.add_geometry.Cylinder_Geometry('tire', ('hpr_wc1','hpr_wc','s_tire_radius'), mirror=True)\n",
    "sym_config.add_geometry.Composite_Geometry('hub', ('gmr_hub_cyl', 'gmr_tire'), mirror=True)\n",
    "sym_config.assign_geometry_to_body('rbr_hub', 'gmr_hub', mirror=True)"
   ]
  },
  {
   "cell_type": "markdown",
   "metadata": {},
   "source": [
    "### ASSEMBLING"
   ]
  },
  {
   "cell_type": "code",
   "execution_count": 17,
   "metadata": {},
   "outputs": [],
   "source": [
    "sym_config.export_JSON_file('data')"
   ]
  },
  {
   "cell_type": "markdown",
   "metadata": {},
   "source": [
    "## CODE GENERATION"
   ]
  },
  {
   "cell_type": "markdown",
   "metadata": {},
   "source": [
    "### Python Numerical Environment"
   ]
  },
  {
   "cell_type": "code",
   "execution_count": 18,
   "metadata": {},
   "outputs": [],
   "source": [
    "from uraeus.nmbd.python import templatebased_project"
   ]
  },
  {
   "cell_type": "code",
   "execution_count": 19,
   "metadata": {},
   "outputs": [],
   "source": [
    "project = templatebased_project(database_directory)\n",
    "project.create_dirs()"
   ]
  },
  {
   "cell_type": "code",
   "execution_count": 20,
   "metadata": {},
   "outputs": [
    {
     "name": "stdout",
     "output_type": "stream",
     "text": [
      "File full path : C:\\khaledghobashy\\github\\uraeus_fsae\\numenv\\python\\templates\\dwb_bellcrank_push.py\n"
     ]
    }
   ],
   "source": [
    "project.write_topology_code(sym_model)"
   ]
  },
  {
   "cell_type": "code",
   "execution_count": null,
   "metadata": {},
   "outputs": [],
   "source": []
  }
 ],
 "metadata": {
  "kernelspec": {
   "display_name": "uraeus",
   "language": "python",
   "name": "uraeus"
  },
  "language_info": {
   "codemirror_mode": {
    "name": "ipython",
    "version": 3
   },
   "file_extension": ".py",
   "mimetype": "text/x-python",
   "name": "python",
   "nbconvert_exporter": "python",
   "pygments_lexer": "ipython3",
   "version": "3.7.3"
  }
 },
 "nbformat": 4,
 "nbformat_minor": 4
}
